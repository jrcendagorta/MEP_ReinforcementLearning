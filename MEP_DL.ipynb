{
 "cells": [
  {
   "cell_type": "code",
   "execution_count": 1,
   "metadata": {},
   "outputs": [
    {
     "name": "stdout",
     "output_type": "stream",
     "text": [
      "Using matplotlib backend: TkAgg\n",
      "Populating the interactive namespace from numpy and matplotlib\n"
     ]
    }
   ],
   "source": [
    "%pylab\n",
    "import random\n",
    "from matplotlib  import cm\n",
    "from matplotlib import colors\n",
    "import random\n",
    "import math\n",
    "colormap = plt.cm.jet"
   ]
  },
  {
   "cell_type": "code",
   "execution_count": 2,
   "metadata": {},
   "outputs": [],
   "source": [
    "def energy(x,y):\n",
    "    aa = [-1.0,-1.0,-6.5,0.7]\n",
    "    bb = [0.0,0.0,11.0,0.6]\n",
    "    cc = [-10.0,-10.0,-6.5,0.7]\n",
    "    AA = [-200.0,-100.0,-170.0,15.0]\n",
    "    XX = [1.0,0.0,-0.5,-1.0]\n",
    "    YY = [0.0,0.5,1.5,1.0]\n",
    "    #energy=np.zeros((np.size(x),np.size(y)))\n",
    "    energy = AA[0]*np.exp(aa[0]*np.square(x-XX[0])+bb[0]*np.multiply(x-XX[0],y-YY[0])+cc[0]*np.square(y-YY[0]))\n",
    "    energy += AA[1]*np.exp(aa[1]*np.square(x-XX[1])+bb[1]*np.multiply(x-XX[1],y-YY[1])+cc[1]*np.square(y-YY[1]))\n",
    "    energy += AA[2]*np.exp(aa[2]*np.square(x-XX[2])+bb[2]*np.multiply(x-XX[2],y-YY[2])+cc[2]*np.square(y-YY[2]))\n",
    "    energy += AA[3]*np.exp(aa[3]*np.square(x-XX[3])+bb[3]*np.multiply(x-XX[3],y-YY[3])+cc[3]*np.square(y-YY[3]))\n",
    "        #energy=np.add(energy,et)\n",
    "    return energy"
   ]
  },
  {
   "cell_type": "code",
   "execution_count": 13,
   "metadata": {},
   "outputs": [
    {
     "data": {
      "text/plain": [
       "(-2, 1.5)"
      ]
     },
     "execution_count": 13,
     "metadata": {},
     "output_type": "execute_result"
    }
   ],
   "source": [
    "size=50\n",
    "x=np.linspace(-2, 1.5,size)\n",
    "y=np.linspace(-1, 2.5,size)\n",
    "\n",
    "xv, yv = np.meshgrid(x, y, sparse=False, indexing='xy')\n",
    "e=energy(xv,yv)\n",
    "plt.figure(1)\n",
    "normalize = colors.Normalize(vmin=np.min(e), vmax=200)\n",
    "plt.scatter(xv,yv,c=e,cmap = colormap,norm=normalize,s=4)\n",
    "plt.ylim(-1,2.5)\n",
    "plt.xlim(-2,1.5)"
   ]
  },
  {
   "cell_type": "code",
   "execution_count": 14,
   "metadata": {},
   "outputs": [
    {
     "name": "stdout",
     "output_type": "stream",
     "text": [
      "-146.6286319083252\n",
      "[-146.62863191]\n"
     ]
    }
   ],
   "source": [
    "print(np.min(e))\n",
    "result = numpy.where(e == numpy.amin(e))\n",
    "r0 = list(zip(result[0],result[1]))\n",
    "x0 = xv[r0[0][0]][[r0[0][1]]]\n",
    "y0 = yv[r0[0][0]][r0[0][1]]\n",
    "print(energy(x0,y0))"
   ]
  },
  {
   "cell_type": "code",
   "execution_count": 15,
   "metadata": {},
   "outputs": [],
   "source": [
    "left=[1,0,0,0]\n",
    "right=[0,1,0,0]\n",
    "up =[0,0,1,0]\n",
    "down = [0,0,0,1]\n",
    "possible_actions = [left,right,up,down]\n",
    "\n",
    "state_size = 2\n",
    "action_size = 4\n",
    "learning_rate = 0.0002\n",
    "\n"
   ]
  },
  {
   "cell_type": "code",
   "execution_count": 17,
   "metadata": {},
   "outputs": [],
   "source": [
    "class DQModel:\n",
    "    def __init__(self, state_size,action_size,learning_rate,name=\"DQModel\"):\n",
    "        self.state_size = state_size\n",
    "        self.action_size = action_size\n",
    "        self.learning_rate = learning_rate\n",
    "        \n",
    "        with tf.variable_scope(name):\n",
    "            self.inputs_ = tf.placeholder(tf.float32,[None, *state_size],name=\"inputs\")\n",
    "            self.actions_ = tf.placeholder(tf.float32,[None, 4],name=\"actions_\")\n",
    "            \n",
    "            self.target_Q = tf.placeholder(tf.float32,[None],name='target')\n",
    "            \n",
    "            self.d1 = tf.layers.Dense(inputs=self.inputs_,\n",
    "                                      units = 20,\n",
    "                                      activation='sigmoid',\n",
    "                                      kernel_initializer=tf.contrib.layers.xavier_initializer(),\n",
    "                                      name=\"d1\")\n",
    "            \n",
    "            self.d2 = tf.layers.Dense(inputs=self.d1,\n",
    "                                      units = 20,\n",
    "                                      activation='sigmoid',\n",
    "                                      kernel_initializer=tf.contrib.layers.xavier_initializer(),\n",
    "                                      name=\"d2\")\n",
    "            \n",
    "            self.output = tf.layers.Dense(inputs = self.d2, \n",
    "                                          units=4,\n",
    "                                          activation='linear',\n",
    "                                          kernel_initializer=tf.contrib.layers.xavier_initializer(),\n",
    "                                          name=\"output\")\n",
    "            \n",
    "            self.Q = tf.reduce_sum(tf.multiply(self.output, self.actions_), axis=1)\n",
    "            \n",
    "            self.loss = tf.reduce_mean(tf.square(self.target_Q - self.Q))\n",
    "            \n",
    "            self.optimizer = tf.train.RMSPropOptimizer(self.learning_rate).minimize(self.loss)\n",
    "            \n",
    "            "
   ]
  },
  {
   "cell_type": "code",
   "execution_count": 111,
   "metadata": {},
   "outputs": [
    {
     "name": "stdout",
     "output_type": "stream",
     "text": [
      "[[6.94725716e-310 6.94725716e-310]\n",
      " [4.65242396e-310 4.65242396e-310]\n",
      " [6.94720202e-310 6.94725187e-310]\n",
      " ...\n",
      " [0.00000000e+000 0.00000000e+000]\n",
      " [0.00000000e+000 0.00000000e+000]\n",
      " [0.00000000e+000 0.00000000e+000]]\n",
      "[[-0.54545455  1.45454545]\n",
      " [-0.54545455  1.45454545]\n",
      " [-0.54204689  1.43688273]\n",
      " ...\n",
      " [-0.57543111  1.43691655]\n",
      " [-0.57543111  1.43691655]\n",
      " [-0.57543111  1.43691655]]\n"
     ]
    },
    {
     "data": {
      "text/plain": [
       "<matplotlib.collections.PathCollection at 0x7fe308d42a20>"
      ]
     },
     "execution_count": 111,
     "metadata": {},
     "output_type": "execute_result"
    }
   ],
   "source": [
    "tf.reset_default_graph()\n",
    "DQModel = DQModel(state_size, action_size, learning_rate)\n"
   ]
  },
  {
   "cell_type": "code",
   "execution_count": null,
   "metadata": {},
   "outputs": [],
   "source": [
    "nsteps = 1000\n",
    "dx = 0.2\n",
    "\n",
    "e_old = energy(x0,y0)\n",
    "beta = 1.0\n",
    "\n",
    "xO = x0\n",
    "yO = y0\n",
    "acc_rate = 0\n",
    "traj = np.empty((nsteps,2))\n",
    "print(traj)\n",
    "for i in range (nsteps):\n",
    "    xN = xO + (random.uniform(0,1)-0.5)*dx/math.sqrt(2)\n",
    "    yN = yO + (random.uniform(0,1)-0.5)*dx/math.sqrt(2)\n",
    "    \n",
    "    e = energy(xN,yN)\n",
    "    dE = e - e_old \n",
    "    acc = False\n",
    "    \n",
    "    if(dE <= 0):\n",
    "        acc = True\n",
    "    else:\n",
    "        P = exp(-beta*dE)\n",
    "        if P >= random.uniform(0,1):\n",
    "            acc = True\n",
    "        else:\n",
    "            acc = False\n",
    "    \n",
    "    if acc:\n",
    "        xO = xN\n",
    "        yO = yN\n",
    "        e_old = e\n",
    "        acc_rate += 1\n",
    "    \n",
    "    traj[i][0] = xO\n",
    "    traj[i][1] = yO\n",
    "        \n",
    "print(traj) \n",
    "e=energy(xv,yv)\n",
    "plt.scatter(xv,yv,c=e,cmap = colormap,norm=normalize)\n",
    "plt.scatter(traj[:,0],traj[:,1],s=2,c='white')"
   ]
  }
 ],
 "metadata": {
  "kernelspec": {
   "display_name": "Python 3",
   "language": "python",
   "name": "python3"
  },
  "language_info": {
   "codemirror_mode": {
    "name": "ipython",
    "version": 3
   },
   "file_extension": ".py",
   "mimetype": "text/x-python",
   "name": "python",
   "nbconvert_exporter": "python",
   "pygments_lexer": "ipython3",
   "version": "3.6.5"
  }
 },
 "nbformat": 4,
 "nbformat_minor": 2
}
